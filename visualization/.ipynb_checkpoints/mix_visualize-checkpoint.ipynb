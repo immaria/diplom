{
 "cells": [
  {
   "cell_type": "code",
   "execution_count": 1,
   "metadata": {},
   "outputs": [],
   "source": [
    "import matplotlib.pyplot as plt\n",
    "import matplotlib.image as mpimg\n",
    "import os\n",
    "import numpy as np"
   ]
  },
  {
   "cell_type": "code",
   "execution_count": 2,
   "metadata": {},
   "outputs": [
    {
     "name": "stdout",
     "output_type": "stream",
     "text": [
      "\u001b[34mad\u001b[m\u001b[m \u001b[34mnm\u001b[m\u001b[m \u001b[34mps\u001b[m\u001b[m \u001b[34msk\u001b[m\u001b[m\n"
     ]
    }
   ],
   "source": [
    "!ls /Users/waranthornchansawang/Desktop/PJ61403_DATA/classes_data"
   ]
  },
  {
   "cell_type": "code",
   "execution_count": 3,
   "metadata": {},
   "outputs": [],
   "source": [
    "ad_dir = '/Users/waranthornchansawang/Desktop/PJ61403_DATA/classes_data/ad'\n",
    "nm_dir = '/Users/waranthornchansawang/Desktop/PJ61403_DATA/classes_data/nm'\n",
    "ps_dir = '/Users/waranthornchansawang/Desktop/PJ61403_DATA/classes_data/ps'\n",
    "sk_dir = '/Users/waranthornchansawang/Desktop/PJ61403_DATA/classes_data/sk'"
   ]
  },
  {
   "cell_type": "code",
   "execution_count": 4,
   "metadata": {},
   "outputs": [],
   "source": [
    "num_ad = len(os.listdir(ad_dir))\n",
    "num_nm = len(os.listdir(nm_dir))\n",
    "num_ps = len(os.listdir(ps_dir))\n",
    "num_sk = len(os.listdir(sk_dir))"
   ]
  },
  {
   "cell_type": "code",
   "execution_count": 5,
   "metadata": {},
   "outputs": [],
   "source": [
    "num_not_danger = num_ad + num_nm\n",
    "num_danger = num_ps + num_sk"
   ]
  },
  {
   "cell_type": "code",
   "execution_count": 6,
   "metadata": {},
   "outputs": [
    {
     "name": "stdout",
     "output_type": "stream",
     "text": [
      "84\n",
      "122\n"
     ]
    }
   ],
   "source": [
    "print(num_not_danger)\n",
    "print(num_danger)"
   ]
  },
  {
   "cell_type": "code",
   "execution_count": 7,
   "metadata": {},
   "outputs": [],
   "source": [
    "classes_ax_list = ['Not danger', 'Other']\n",
    "subclasses_ax_list = ['AD', 'NM', 'PS', 'SK']\n",
    "\n",
    "classes_name_list = [num_not_danger, num_danger]\n",
    "subclasses_name_list = [num_ad, num_nm, num_ps, num_sk]\n",
    "\n",
    "classes_num_list = np.arange(len(classes_name_list))\n",
    "subclasses_num_list = np.arange(len(subclasses_name_list))"
   ]
  },
  {
   "cell_type": "code",
   "execution_count": 8,
   "metadata": {},
   "outputs": [
    {
     "name": "stdout",
     "output_type": "stream",
     "text": [
      "Not danger Other\n",
      "84 122\n",
      "\n",
      "AD NM PS SK\n",
      "67 17 65 57\n"
     ]
    }
   ],
   "source": [
    "for a, b in (classes_ax_list, classes_name_list):\n",
    "    print(a, b)\n",
    "    \n",
    "print('')\n",
    "    \n",
    "for a, b, c, d in (subclasses_ax_list, subclasses_name_list):\n",
    "    print(a, b, c, d)"
   ]
  },
  {
   "cell_type": "markdown",
   "metadata": {},
   "source": [
    "# Classes"
   ]
  },
  {
   "cell_type": "code",
   "execution_count": 9,
   "metadata": {},
   "outputs": [
    {
     "data": {
      "image/png": "[encoded data removed]",
      "text/plain": [
       "<Figure size 864x288 with 1 Axes>"
      ]
     },
     "metadata": {
      "needs_background": "light"
     },
     "output_type": "display_data"
    }
   ],
   "source": [
    "plt.figure(figsize=(12, 4))\n",
    "plt.bar(classes_ax_list, classes_name_list)\n",
    "plt.xticks(classes_num_list, classes_ax_list, fontsize=15)\n",
    "plt.xlabel('Classes')\n",
    "plt.ylabel('Number of Picture')\n",
    "plt.title('Not danger VS Danger')\n",
    "plt.show()"
   ]
  },
  {
   "cell_type": "markdown",
   "metadata": {},
   "source": [
    "# Subclasses"
   ]
  },
  {
   "cell_type": "code",
   "execution_count": 10,
   "metadata": {},
   "outputs": [
    {
     "data": {
      "image/png": "[encoded data removed]",
      "text/plain": [
       "<Figure size 864x288 with 1 Axes>"
      ]
     },
     "metadata": {
      "needs_background": "light"
     },
     "output_type": "display_data"
    }
   ],
   "source": [
    "plt.figure(figsize=(12, 4))\n",
    "plt.bar(subclasses_ax_list, subclasses_name_list)\n",
    "plt.xticks(subclasses_num_list, subclasses_ax_list, fontsize=15)\n",
    "plt.xlabel('Classes')\n",
    "plt.ylabel('Number of Picture')\n",
    "plt.title('AD VS NM VS PS VS SK')\n",
    "plt.show()"
   ]
  }
 ],
 "metadata": {
  "kernelspec": {
   "display_name": "Python 3",
   "language": "python",
   "name": "python3"
  },
  "language_info": {
   "codemirror_mode": {
    "name": "ipython",
    "version": 3
   },
   "file_extension": ".py",
   "mimetype": "text/x-python",
   "name": "python",
   "nbconvert_exporter": "python",
   "pygments_lexer": "ipython3",
   "version": "3.7.4"
  }
 },
 "nbformat": 4,
 "nbformat_minor": 4
}
