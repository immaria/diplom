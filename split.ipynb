{
 "cells": [
  {
   "cell_type": "code",
   "execution_count": 2,
   "metadata": {},
   "outputs": [
    {
     "output_type": "stream",
     "name": "stderr",
     "text": "Copying files: 245 files [00:00, 583.30 files/s]\n"
    }
   ],
   "source": [
    "import split_folders\n",
    "\n",
    "split_folders.ratio('classes_data', \n",
    "                    output='split_classes_data', \n",
    "                    seed=1337, \n",
    "                    ratio=(0.50, 0.25, 0.25)) #train=0.8, val=0.1, test=0.1"
   ]
  },
  {
   "cell_type": "code",
   "execution_count": null,
   "metadata": {},
   "outputs": [],
   "source": []
  }
 ],
 "metadata": {
  "language_info": {
   "codemirror_mode": {
    "name": "ipython",
    "version": 3
   },
   "file_extension": ".py",
   "mimetype": "text/x-python",
   "name": "python",
   "nbconvert_exporter": "python",
   "pygments_lexer": "ipython3",
   "version": "3.7.4-final"
  },
  "orig_nbformat": 2,
  "kernelspec": {
   "name": "python37464bitd4608a11755947738f44cae4ce7c94e5",
   "display_name": "Python 3.7.4 64-bit"
  }
 },
 "nbformat": 4,
 "nbformat_minor": 2
}